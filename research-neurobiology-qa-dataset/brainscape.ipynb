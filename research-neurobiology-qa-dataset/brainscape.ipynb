{
 "cells": [
  {
   "cell_type": "code",
   "execution_count": 31,
   "metadata": {},
   "outputs": [],
   "source": [
    "import pandas as pd\n",
    "import requests\n",
    "from bs4 import BeautifulSoup"
   ]
  },
  {
   "cell_type": "markdown",
   "metadata": {},
   "source": [
    "## Init Dataset"
   ]
  },
  {
   "cell_type": "code",
   "execution_count": 32,
   "metadata": {},
   "outputs": [
    {
     "data": {
      "text/html": [
       "<div>\n",
       "<style scoped>\n",
       "    .dataframe tbody tr th:only-of-type {\n",
       "        vertical-align: middle;\n",
       "    }\n",
       "\n",
       "    .dataframe tbody tr th {\n",
       "        vertical-align: top;\n",
       "    }\n",
       "\n",
       "    .dataframe thead th {\n",
       "        text-align: right;\n",
       "    }\n",
       "</style>\n",
       "<table border=\"1\" class=\"dataframe\">\n",
       "  <thead>\n",
       "    <tr style=\"text-align: right;\">\n",
       "      <th></th>\n",
       "      <th>question</th>\n",
       "      <th>answer</th>\n",
       "    </tr>\n",
       "  </thead>\n",
       "  <tbody>\n",
       "  </tbody>\n",
       "</table>\n",
       "</div>"
      ],
      "text/plain": [
       "Empty DataFrame\n",
       "Columns: [question, answer]\n",
       "Index: []"
      ]
     },
     "execution_count": 32,
     "metadata": {},
     "output_type": "execute_result"
    }
   ],
   "source": [
    "df = pd.DataFrame(columns=['question', 'answer'])\n",
    "df"
   ]
  },
  {
   "cell_type": "markdown",
   "metadata": {},
   "source": [
    "## Mine Data"
   ]
  },
  {
   "cell_type": "code",
   "execution_count": 33,
   "metadata": {},
   "outputs": [
    {
     "data": {
      "text/plain": [
       "['https://www.brainscape.com/flashcards/cranial-nerves-2842958/packs/4727066',\n",
       " 'https://www.brainscape.com/flashcards/spinal-cord-and-hindbrain-2874853/packs/4727066',\n",
       " 'https://www.brainscape.com/flashcards/overview-of-brain-and-spinal-cord-functi-2874899/packs/4727066',\n",
       " 'https://www.brainscape.com/flashcards/synaptic-transmission-2875080/packs/4727066',\n",
       " 'https://www.brainscape.com/flashcards/cerebral-cortex-2875255/packs/4727066',\n",
       " 'https://www.brainscape.com/flashcards/midbrain-and-diencephalon-2886556/packs/4727066',\n",
       " 'https://www.brainscape.com/flashcards/biophysics-2908048/packs/4727066',\n",
       " 'https://www.brainscape.com/flashcards/receptors-and-acetylcholine-2913056/packs/4727066',\n",
       " 'https://www.brainscape.com/flashcards/neuroanatomy-3010273/packs/4727066',\n",
       " 'https://www.brainscape.com/flashcards/neuroantamony-2-3052730/packs/4727066',\n",
       " 'https://www.brainscape.com/flashcards/neuroanatomy-3-3055071/packs/4727066',\n",
       " 'https://www.brainscape.com/flashcards/ventilation-perfusion-relationships-3058453/packs/4727066',\n",
       " 'https://www.brainscape.com/flashcards/somatosensory-physiology-3141003/packs/4727066',\n",
       " 'https://www.brainscape.com/flashcards/pain-and-nociception-3141004/packs/4727066',\n",
       " 'https://www.brainscape.com/flashcards/taste-and-olfaction-3148135/packs/4727066',\n",
       " 'https://www.brainscape.com/flashcards/neurodegenerative-disorders-3154617/packs/4727066',\n",
       " 'https://www.brainscape.com/flashcards/visual-system-1-3160106/packs/4727066',\n",
       " 'https://www.brainscape.com/flashcards/visual-system-2-3163742/packs/4727066',\n",
       " 'https://www.brainscape.com/flashcards/auditory-system-3163745/packs/4727066',\n",
       " 'https://www.brainscape.com/flashcards/serotonin-3174698/packs/4727066',\n",
       " 'https://www.brainscape.com/flashcards/neuropeptides-3176046/packs/4727066',\n",
       " 'https://www.brainscape.com/flashcards/biogenic-amines-3176047/packs/4727066',\n",
       " 'https://www.brainscape.com/flashcards/ionotropic-and-metabotropic-receptors-3184015/packs/4727066',\n",
       " 'https://www.brainscape.com/flashcards/vestibular-system-3196990/packs/4727066',\n",
       " 'https://www.brainscape.com/flashcards/excitatory-amino-acids-3197385/packs/4727066',\n",
       " 'https://www.brainscape.com/flashcards/roles-of-serotonin-3207183/packs/4727066',\n",
       " 'https://www.brainscape.com/flashcards/miscellaneous-3212247/packs/4727066',\n",
       " 'https://www.brainscape.com/flashcards/motor-systems-3212248/packs/4727066',\n",
       " 'https://www.brainscape.com/flashcards/neurotransmitter-receptors-3212249/packs/4727066',\n",
       " 'https://www.brainscape.com/flashcards/inhibitory-amino-acid-neurotransmitters-3212303/packs/4727066']"
      ]
     },
     "execution_count": 33,
     "metadata": {},
     "output_type": "execute_result"
    }
   ],
   "source": [
    "themes_url = 'https://www.brainscape.com/packs/neurobiology-4727066'\n",
    "response = requests.get(themes_url)\n",
    "soup = BeautifulSoup(response.content, 'html.parser')\n",
    "\n",
    "a_tags = soup.find_all('a', class_='flashcard-dropdown-cards-container-link')\n",
    "urls = [a.get('href') for a in a_tags]\n",
    "urls"
   ]
  },
  {
   "cell_type": "code",
   "execution_count": 34,
   "metadata": {},
   "outputs": [
    {
     "data": {
      "text/html": [
       "<div>\n",
       "<style scoped>\n",
       "    .dataframe tbody tr th:only-of-type {\n",
       "        vertical-align: middle;\n",
       "    }\n",
       "\n",
       "    .dataframe tbody tr th {\n",
       "        vertical-align: top;\n",
       "    }\n",
       "\n",
       "    .dataframe thead th {\n",
       "        text-align: right;\n",
       "    }\n",
       "</style>\n",
       "<table border=\"1\" class=\"dataframe\">\n",
       "  <thead>\n",
       "    <tr style=\"text-align: right;\">\n",
       "      <th></th>\n",
       "      <th>question</th>\n",
       "      <th>answer</th>\n",
       "    </tr>\n",
       "  </thead>\n",
       "  <tbody>\n",
       "    <tr>\n",
       "      <th>0</th>\n",
       "      <td>What are the afferent cranial nerve nuclei?</td>\n",
       "      <td>Trigeminal sensory nucleus- fibres carry gener...</td>\n",
       "    </tr>\n",
       "    <tr>\n",
       "      <th>1</th>\n",
       "      <td>What is the order of the cranial nerves ?</td>\n",
       "      <td>1-olfactory\\n2-optic\\n3-oculomotor\\n4-trochlea...</td>\n",
       "    </tr>\n",
       "    <tr>\n",
       "      <th>2</th>\n",
       "      <td>What are the efferent cranial nerve nuclei?</td>\n",
       "      <td>Edinger-westphal nucleus\\nOculomotor nucleus\\n...</td>\n",
       "    </tr>\n",
       "    <tr>\n",
       "      <th>3</th>\n",
       "      <td>Which nuclei share the embryo logical origin -...</td>\n",
       "      <td>Oculomotor nucleus Trochlear nucleus Abducens ...</td>\n",
       "    </tr>\n",
       "    <tr>\n",
       "      <th>4</th>\n",
       "      <td>Which nuclei share the embryo logical origin- ...</td>\n",
       "      <td>Trigeminal motor nucleus Facial motor nucleus ...</td>\n",
       "    </tr>\n",
       "    <tr>\n",
       "      <th>...</th>\n",
       "      <td>...</td>\n",
       "      <td>...</td>\n",
       "    </tr>\n",
       "    <tr>\n",
       "      <th>1047</th>\n",
       "      <td>What is the purpose of gephyrin in the glycine...</td>\n",
       "      <td>Involved in anchoring the receptor to a specif...</td>\n",
       "    </tr>\n",
       "    <tr>\n",
       "      <th>1048</th>\n",
       "      <td>What is the glycine receptor involved in ?</td>\n",
       "      <td>Reflex response\\nCauses reciprocal inhibition ...</td>\n",
       "    </tr>\n",
       "    <tr>\n",
       "      <th>1049</th>\n",
       "      <td>What happens in hyperperplexia ?</td>\n",
       "      <td>It’s an exaggerated reflex Often caused by a m...</td>\n",
       "    </tr>\n",
       "    <tr>\n",
       "      <th>1050</th>\n",
       "      <td>What is hyperperplexia treated with ?</td>\n",
       "      <td>Benzodiazepine</td>\n",
       "    </tr>\n",
       "    <tr>\n",
       "      <th>1051</th>\n",
       "      <td>What increases glycine release ?</td>\n",
       "      <td>Tetanus toxin</td>\n",
       "    </tr>\n",
       "  </tbody>\n",
       "</table>\n",
       "<p>1052 rows × 2 columns</p>\n",
       "</div>"
      ],
      "text/plain": [
       "                                               question  \\\n",
       "0           What are the afferent cranial nerve nuclei?   \n",
       "1             What is the order of the cranial nerves ?   \n",
       "2           What are the efferent cranial nerve nuclei?   \n",
       "3     Which nuclei share the embryo logical origin -...   \n",
       "4     Which nuclei share the embryo logical origin- ...   \n",
       "...                                                 ...   \n",
       "1047  What is the purpose of gephyrin in the glycine...   \n",
       "1048         What is the glycine receptor involved in ?   \n",
       "1049                   What happens in hyperperplexia ?   \n",
       "1050              What is hyperperplexia treated with ?   \n",
       "1051                   What increases glycine release ?   \n",
       "\n",
       "                                                 answer  \n",
       "0     Trigeminal sensory nucleus- fibres carry gener...  \n",
       "1     1-olfactory\\n2-optic\\n3-oculomotor\\n4-trochlea...  \n",
       "2     Edinger-westphal nucleus\\nOculomotor nucleus\\n...  \n",
       "3     Oculomotor nucleus Trochlear nucleus Abducens ...  \n",
       "4     Trigeminal motor nucleus Facial motor nucleus ...  \n",
       "...                                                 ...  \n",
       "1047  Involved in anchoring the receptor to a specif...  \n",
       "1048  Reflex response\\nCauses reciprocal inhibition ...  \n",
       "1049  It’s an exaggerated reflex Often caused by a m...  \n",
       "1050                                     Benzodiazepine  \n",
       "1051                                      Tetanus toxin  \n",
       "\n",
       "[1052 rows x 2 columns]"
      ]
     },
     "execution_count": 34,
     "metadata": {},
     "output_type": "execute_result"
    }
   ],
   "source": [
    "for url in urls:\n",
    "  response = requests.get(url)\n",
    "  soup = BeautifulSoup(response.content, 'html.parser')\n",
    "\n",
    "  flashcards = soup.find_all('div', class_='flashcard-row')\n",
    "\n",
    "  for flashcard in flashcards:\n",
    "    question = flashcard.find('div', class_='question-contents').find('div', class_='scf-face').get_text().strip().replace('\\n', '\\\\n')\n",
    "    answer = flashcard.find('div', class_='answer-contents').find('div', class_='scf-face').get_text().strip().replace('\\n', '\\\\n')\n",
    "    df_row = {'question': question, 'answer': answer}\n",
    "\n",
    "    df = pd.concat([df, pd.DataFrame([df_row])], ignore_index=True)\n",
    "\n",
    "df"
   ]
  },
  {
   "cell_type": "markdown",
   "metadata": {},
   "source": [
    "## Save Data"
   ]
  },
  {
   "cell_type": "code",
   "execution_count": 35,
   "metadata": {},
   "outputs": [],
   "source": [
    "df.to_csv('brainscape.csv', index=False)"
   ]
  }
 ],
 "metadata": {
  "kernelspec": {
   "display_name": "base",
   "language": "python",
   "name": "python3"
  },
  "language_info": {
   "codemirror_mode": {
    "name": "ipython",
    "version": 3
   },
   "file_extension": ".py",
   "mimetype": "text/x-python",
   "name": "python",
   "nbconvert_exporter": "python",
   "pygments_lexer": "ipython3",
   "version": "3.12.1"
  }
 },
 "nbformat": 4,
 "nbformat_minor": 2
}
