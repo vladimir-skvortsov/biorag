{
 "cells": [
  {
   "cell_type": "code",
   "execution_count": 47,
   "metadata": {},
   "outputs": [],
   "source": [
    "import os\n",
    "from langchain.chat_models import ChatOpenAI\n",
    "from langchain_community.document_loaders import DirectoryLoader\n",
    "from langchain.indexes import VectorstoreIndexCreator\n",
    "from langchain.vectorstores import DocArrayInMemorySearch\n",
    "from langchain.chains import RetrievalQA\n",
    "from langchain.prompts import ChatPromptTemplate\n",
    "from dotenv import load_dotenv\n",
    "from collections import Counter\n",
    "from unidecode import unidecode\n",
    "import numpy as np\n",
    "import pandas as pd\n",
    "import matplotlib.pyplot as plt\n",
    "import seaborn as sns\n",
    "import nltk\n",
    "import string"
   ]
  },
  {
   "cell_type": "markdown",
   "metadata": {},
   "source": [
    "## Useful materials\n",
    "https://wandb.ai/ayush-thakur/llm-eval-sweep/reports/How-to-Evaluate-Compare-and-Optimize-LLM-Systems--Vmlldzo0NzgyMTQz \\\n",
    "https://intellica-ai.medium.com/comparison-of-different-word-embeddings-on-text-similarity-a-use-case-in-nlp-e83e08469c1c \\\n",
    "https://christiangrech.medium.com/evaluating-rag-performance-a-comprehensive-guide-b1d8f903b7ad"
   ]
  },
  {
   "cell_type": "markdown",
   "metadata": {},
   "source": [
    "# Setup"
   ]
  },
  {
   "cell_type": "markdown",
   "metadata": {},
   "source": [
    "## Setup environment"
   ]
  },
  {
   "cell_type": "code",
   "execution_count": 48,
   "metadata": {},
   "outputs": [
    {
     "data": {
      "text/plain": [
       "True"
      ]
     },
     "execution_count": 48,
     "metadata": {},
     "output_type": "execute_result"
    }
   ],
   "source": [
    "load_dotenv()"
   ]
  },
  {
   "cell_type": "code",
   "execution_count": 49,
   "metadata": {},
   "outputs": [],
   "source": [
    "os.environ['OPENAI_API_KEY'] = os.getenv('OPENAI_API_KEY')"
   ]
  },
  {
   "cell_type": "markdown",
   "metadata": {},
   "source": [
    "## Setup NLTK"
   ]
  },
  {
   "cell_type": "code",
   "execution_count": 50,
   "metadata": {},
   "outputs": [
    {
     "name": "stderr",
     "output_type": "stream",
     "text": [
      "[nltk_data] Downloading package punkt to\n",
      "[nltk_data]     /Users/vladimirskvortsov/nltk_data...\n",
      "[nltk_data]   Package punkt is already up-to-date!\n",
      "[nltk_data] Downloading package stopwords to\n",
      "[nltk_data]     /Users/vladimirskvortsov/nltk_data...\n",
      "[nltk_data]   Package stopwords is already up-to-date!\n",
      "[nltk_data] Downloading package wordnet to\n",
      "[nltk_data]     /Users/vladimirskvortsov/nltk_data...\n",
      "[nltk_data]   Package wordnet is already up-to-date!\n"
     ]
    },
    {
     "data": {
      "text/plain": [
       "True"
      ]
     },
     "execution_count": 50,
     "metadata": {},
     "output_type": "execute_result"
    }
   ],
   "source": [
    "nltk.download('punkt')\n",
    "nltk.download('stopwords')\n",
    "nltk.download('wordnet')"
   ]
  },
  {
   "cell_type": "markdown",
   "metadata": {},
   "source": [
    "# Dataset"
   ]
  },
  {
   "cell_type": "markdown",
   "metadata": {},
   "source": [
    "## Load dataset"
   ]
  },
  {
   "cell_type": "code",
   "execution_count": 51,
   "metadata": {},
   "outputs": [
    {
     "data": {
      "text/plain": [
       "22"
      ]
     },
     "execution_count": 51,
     "metadata": {},
     "output_type": "execute_result"
    }
   ],
   "source": [
    "loader = DirectoryLoader('dataset', '*.tex')\n",
    "docs = loader.load()\n",
    "len(docs)"
   ]
  },
  {
   "cell_type": "markdown",
   "metadata": {},
   "source": [
    "## Stores"
   ]
  },
  {
   "cell_type": "code",
   "execution_count": 52,
   "metadata": {},
   "outputs": [],
   "source": [
    "index = VectorstoreIndexCreator(\n",
    "  vectorstore_cls=DocArrayInMemorySearch,\n",
    ").from_loaders([loader])"
   ]
  },
  {
   "cell_type": "markdown",
   "metadata": {},
   "source": [
    "# LLMs"
   ]
  },
  {
   "cell_type": "markdown",
   "metadata": {},
   "source": [
    "## gpt-3.5-turbo + vector store"
   ]
  },
  {
   "cell_type": "code",
   "execution_count": 53,
   "metadata": {},
   "outputs": [],
   "source": [
    "openai_llm = ChatOpenAI(temperature=0, model='gpt-3.5-turbo')\n",
    "openai_qa_llm = RetrievalQA.from_chain_type(\n",
    "  llm=openai_llm,\n",
    "  chain_type=\"stuff\",\n",
    "  retriever=index.vectorstore.as_retriever(),\n",
    "  verbose=True,\n",
    "  chain_type_kwargs = {\n",
    "    'document_separator': '<<<<>>>>>',\n",
    "  },\n",
    ")"
   ]
  },
  {
   "cell_type": "code",
   "execution_count": 54,
   "metadata": {},
   "outputs": [
    {
     "name": "stdout",
     "output_type": "stream",
     "text": [
      "\n",
      "\n",
      "\u001b[1m> Entering new RetrievalQA chain...\u001b[0m\n",
      "\n",
      "\u001b[1m> Finished chain.\u001b[0m\n"
     ]
    },
    {
     "data": {
      "text/plain": [
       "'Распределение Пуассона задается через вероятности появления различного количества событий в фиксированном интервале времени или пространства. В таблице распределения Пуассона указываются вероятности $P(X=k)$ для $k=0, 1, 2, \\\\ldots$, где $X$ - случайная величина, представляющая количество событий. \\n\\nДля распределения Пуассона вероятность $P(X=k)$ вычисляется по формуле $P(X=k) = \\\\frac{\\\\lambda^k}{k!} e^{-\\\\lambda}$, где $\\\\lambda$ - параметр распределения, который представляет собой среднее количество событий за фиксированный интервал времени или пространства. \\n\\nТаким образом, распределение Пуассона характеризуется экспоненциальным убыванием вероятностей с увеличением количества событий и параметром $\\\\lambda$, который также является средним значением и дисперсией этого распределения.'"
      ]
     },
     "execution_count": 54,
     "metadata": {},
     "output_type": "execute_result"
    }
   ],
   "source": [
    "openai_qa_llm.run('Как задается распределение Пуассона?')"
   ]
  },
  {
   "cell_type": "markdown",
   "metadata": {},
   "source": [
    "## LLAMA 2 + vector store"
   ]
  },
  {
   "cell_type": "code",
   "execution_count": 55,
   "metadata": {},
   "outputs": [],
   "source": [
    "from langchain_community.llms import Ollama\n",
    "\n",
    "llama_llm = Ollama(temperature=0, model='llama2')\n",
    "llama_qa_llm = RetrievalQA.from_chain_type(\n",
    "  llm=llama_llm,\n",
    "  chain_type=\"stuff\",\n",
    "  retriever=index.vectorstore.as_retriever(),\n",
    "  verbose=True,\n",
    "  chain_type_kwargs = {\n",
    "    'document_separator': '<<<<>>>>>',\n",
    "  },\n",
    ")"
   ]
  },
  {
   "cell_type": "code",
   "execution_count": 56,
   "metadata": {},
   "outputs": [
    {
     "name": "stdout",
     "output_type": "stream",
     "text": [
      "\n",
      "\n",
      "\u001b[1m> Entering new RetrievalQA chain...\u001b[0m\n",
      "\n",
      "\u001b[1m> Finished chain.\u001b[0m\n"
     ]
    },
    {
     "data": {
      "text/plain": [
       "'The distribution of the Poisson process is defined as follows:\\n\\nLet $N$ be a positive integer, and let $X_1, X_2, \\\\ldots$ be a sequence of independent and identically distributed random variables with probability mass function $p_N(k) = e^{-\\\\lambda} \\\\frac{\\\\lambda^k}{k!}$. Then the distribution of the Poisson process with parameter $\\\\lambda$ is defined as the probability measure $\\\\mu_X$ given by:\\n\\n$$\\\\mu_X(A) = \\\\sum_{k=0}^{\\\\infty} p_N(k) \\\\delta_{X_N}(A)$$\\n\\nwhere $A \\\\in \\\\mathcal{B}(\\\\mathbb{R})$ is a Borel set, and $\\\\delta_{X_N}$ is the Dirac delta function at $X_N$.\\n\\nIn other words, the distribution of the Poisson process is the sum of the probability masses of the individual random variables $X_i$, normalized to integrate to 1. The parameter $\\\\lambda$ is not explicitly mentioned in the definition of the distribution, but it is assumed to be a fixed constant.'"
      ]
     },
     "execution_count": 56,
     "metadata": {},
     "output_type": "execute_result"
    }
   ],
   "source": [
    "llama_qa_llm.run('Как задается распределение Пуассона?')"
   ]
  },
  {
   "cell_type": "markdown",
   "metadata": {},
   "source": [
    "# Metrics"
   ]
  },
  {
   "cell_type": "markdown",
   "metadata": {},
   "source": [
    "## Preprocess"
   ]
  },
  {
   "cell_type": "code",
   "execution_count": 57,
   "metadata": {},
   "outputs": [
    {
     "data": {
      "text/plain": [
       "'dispersiei sluchainoi velichiny x nazyvaetsia chislo \\\\mathbb x \\\\mathbb e x \\\\mathbb e x 2'"
      ]
     },
     "execution_count": 57,
     "metadata": {},
     "output_type": "execute_result"
    }
   ],
   "source": [
    "lemmatizer = nltk.stem.WordNetLemmatizer()\n",
    "\n",
    "def preprocess(corpus):\n",
    "  corpus = corpus.lower()\n",
    "  stopset = nltk.corpus.stopwords.words('english') + nltk.corpus.stopwords.words('russian') + list(string.punctuation)\n",
    "  tokens = nltk.word_tokenize(corpus)\n",
    "  tokens = [t for t in tokens if t not in stopset]\n",
    "  tokens = [lemmatizer.lemmatize(t) for t in tokens]\n",
    "  corpus = ' '.join(tokens)\n",
    "  corpus = unidecode(corpus)\n",
    "  return corpus\n",
    "\n",
    "preprocess(\"Дисперсией случайной величины $X$ называется число $\\\\mathbb{D}X = \\\\mathbb{E}(X - \\\\mathbb{E}X) ^ 2$.\")"
   ]
  },
  {
   "cell_type": "markdown",
   "metadata": {},
   "source": [
    "## Questions and True Answers"
   ]
  },
  {
   "cell_type": "markdown",
   "metadata": {},
   "source": [
    "## Experiment 1: Unigrams Overlap (Precision, Recall and F1-Score)"
   ]
  },
  {
   "cell_type": "code",
   "execution_count": 58,
   "metadata": {},
   "outputs": [],
   "source": [
    "questions = [\n",
    "  {\n",
    "    'question': 'Дисперсия случайной величины',\n",
    "    'answer': 'Дисперсией случайной величины $X$ называется число $\\\\mathbb{D}X = \\\\mathbb{E}(X - \\\\mathbb{E}X) ^ 2$.',\n",
    "  },\n",
    "  {\n",
    "    'question': 'Докажи неравенство Чебышёва',\n",
    "    'answer': 'Пусть $A = {\\\\omega:X(\\\\omega) \\\\geqslant t}$. Тогда $X \\\\geqslant t \\\\cdot I_A$, и значит $\\\\mathbb{E}X \\\\geqslant tP(A)$.',\n",
    "  },\n",
    "  {\n",
    "    'question': 'Дай определение формулы Байеса',\n",
    "    'answer': 'Пусть $P(B) > 0$. Условной вероятностью события $A$ при условии $B$ называется число $P(A|B) = \\\\dfrac{P(A \\\\cap B)}{P(B)}$. Если фиксировать событие $B$, то функция $P(\\\\cdot|B)$ является новой вероятностной мерой, т.е. удовлетворяет свойствам (i) и (ii) (или (ii)\\', если таковой была исходная вероятностная мера $P$). Равенство из определения часто переписывают в виде $P(A \\\\cap B) = P(A|B)P(B)$ и называют правилом произведения.',\n",
    "  },\n",
    "  {\n",
    "    'question': 'Что такое ковариация?',\n",
    "    'answer': 'Ковариацией пары случайных величин $X, Y$ называется число $\\\\mathrm{cov}(X, Y) = \\\\mathbb{E} \\\\left( (X - \\\\mathbb{E}X)(Y - \\\\mathbb{E}Y) \\\\right)$.',\n",
    "  },\n",
    "  {\n",
    "    'question': 'Определение характеристической функции',\n",
    "    'answer': 'Пусть $X$ это случайная величина. Тогда характеристическая функция случайной величины $X$ это\\n\\\\begin{equation*}\\n\\\\phi_X(t) := \\\\E[e^{itX}] = \\\\E[\\\\cos (t \\\\cdot X)] + i \\\\cdot \\\\E[\\\\sin (t \\\\cdot X)].\\n\\\\end{equation*}',\n",
    "  },\n",
    "  {\n",
    "    'question': 'Формулировка теоремы об однозначности задания совместного распределения функцией совместного распределения и о существовании распределения с заданой функцией совместного распределения',\n",
    "    'answer': 'Совместное распределение пары случайных величин $\\\\mu_{X, Y}$ однозначно задается функцией совместного распределения $F_{X, Y}$.\\nКроме того, для всякой функции $F$, удовлетворяющей свойствам $(1), (2), (3), (4),$ существует вероятностное пространство $(\\\\Omega, \\\\mathcal{A}, P)$ и пара случайных величин $X, Y$ с функцией совместного распределения $F$.',\n",
    "  },\n",
    "]"
   ]
  },
  {
   "cell_type": "code",
   "execution_count": 59,
   "metadata": {},
   "outputs": [],
   "source": [
    "def unigrams_overlap_recall_metric(expected_answers, predicted_answers):\n",
    "  results = []\n",
    "\n",
    "  for expected_answer, predicted_answer in zip(expected_answers, predicted_answers):\n",
    "    expected_answer = preprocess(expected_answer)\n",
    "    predicted_answer = preprocess(predicted_answer)\n",
    "\n",
    "    expected_tokens = nltk.word_tokenize(expected_answer)\n",
    "    predicted_tokens = nltk.word_tokenize(predicted_answer)\n",
    "\n",
    "    expected_count = Counter(expected_tokens)\n",
    "    predicted_count = Counter(predicted_tokens)\n",
    "    overlap = sum(min(predicted_count[w], expected_count[w]) for w in predicted_count)\n",
    "\n",
    "    recall = overlap / len(expected_tokens)\n",
    "\n",
    "    results.append(recall)\n",
    "\n",
    "  return np.mean(results)"
   ]
  },
  {
   "cell_type": "code",
   "execution_count": 60,
   "metadata": {},
   "outputs": [],
   "source": [
    "def unigrams_overlap_precision_metric(expected_answers, predicted_answers):\n",
    "  results = []\n",
    "\n",
    "  for expected_answer, predicted_answer in zip(expected_answers, predicted_answers):\n",
    "    expected_answer = preprocess(expected_answer)\n",
    "    predicted_answer = preprocess(predicted_answer)\n",
    "\n",
    "    expected_tokens = nltk.word_tokenize(expected_answer)\n",
    "    predicted_tokens = nltk.word_tokenize(predicted_answer)\n",
    "\n",
    "    expected_count = Counter(expected_tokens)\n",
    "    predicted_count = Counter(predicted_tokens)\n",
    "    overlap = sum(min(predicted_count[w], expected_count[w]) for w in predicted_count)\n",
    "\n",
    "    precision = overlap / len(predicted_tokens)\n",
    "\n",
    "    results.append(precision)\n",
    "\n",
    "  return np.mean(results)"
   ]
  },
  {
   "cell_type": "code",
   "execution_count": 61,
   "metadata": {},
   "outputs": [],
   "source": [
    "def unigrams_overlap_f1_metric(expected_answers, predicted_answers):\n",
    "  results = []\n",
    "\n",
    "  for expected_answer, predicted_answer in zip(expected_answers, predicted_answers):\n",
    "    expected_answer = preprocess(expected_answer)\n",
    "    predicted_answer = preprocess(predicted_answer)\n",
    "\n",
    "    expected_tokens = nltk.word_tokenize(expected_answer)\n",
    "    predicted_tokens = nltk.word_tokenize(predicted_answer)\n",
    "\n",
    "    expected_count = Counter(expected_tokens)\n",
    "    predicted_count = Counter(predicted_tokens)\n",
    "    overlap = sum(min(predicted_count[w], expected_count[w]) for w in predicted_count)\n",
    "\n",
    "    recall = overlap / len(expected_tokens)\n",
    "    precision = overlap / len(predicted_tokens)\n",
    "    f1 = 2 * (recall * precision) / (recall + precision)\n",
    "\n",
    "    results.append(f1)\n",
    "\n",
    "  return np.mean(results)"
   ]
  },
  {
   "cell_type": "markdown",
   "metadata": {},
   "source": [
    "## Experiment 2: Inverse Embeddings Euclidean Distance"
   ]
  },
  {
   "cell_type": "code",
   "execution_count": 62,
   "metadata": {},
   "outputs": [],
   "source": [
    "from langchain_openai import OpenAIEmbeddings\n",
    "\n",
    "embeddings = OpenAIEmbeddings(model=\"text-embedding-3-large\")"
   ]
  },
  {
   "cell_type": "code",
   "execution_count": 63,
   "metadata": {},
   "outputs": [
    {
     "data": {
      "text/plain": [
       "3072"
      ]
     },
     "execution_count": 63,
     "metadata": {},
     "output_type": "execute_result"
    }
   ],
   "source": [
    "len(embeddings.embed_query('asdasd'))"
   ]
  },
  {
   "cell_type": "code",
   "execution_count": 64,
   "metadata": {},
   "outputs": [],
   "source": [
    "def embeddings_euclidean_dist_metric(expected_answers, predicted_answers):\n",
    "  results = []\n",
    "\n",
    "  for expected_answer, predicted_answer in zip(expected_answers, predicted_answers):\n",
    "    expected_answer = preprocess(expected_answer)\n",
    "    predicted_answer = preprocess(predicted_answer)\n",
    "\n",
    "    expected_embedding = np.array(embeddings.embed_query(expected_answer))\n",
    "    predicted_embedding = np.array(embeddings.embed_query(predicted_answer))\n",
    "\n",
    "    abs_diff = np.linalg.norm(expected_embedding - predicted_embedding)\n",
    "    result = 1 / abs_diff\n",
    "\n",
    "    results.append(result)\n",
    "\n",
    "  return np.mean(results)"
   ]
  },
  {
   "cell_type": "markdown",
   "metadata": {},
   "source": [
    "## Experiment 3: Embeddings Cosine Similarity"
   ]
  },
  {
   "cell_type": "code",
   "execution_count": 65,
   "metadata": {},
   "outputs": [],
   "source": [
    "from sklearn.metrics.pairwise import cosine_similarity\n",
    "\n",
    "def embeddings_cosine_sim_metric(expected_answers, predicted_answers):\n",
    "  results = []\n",
    "\n",
    "  for expected_answer, predicted_answer in zip(expected_answers, predicted_answers):\n",
    "    expected_answer = preprocess(expected_answer)\n",
    "    predicted_answer = preprocess(predicted_answer)\n",
    "\n",
    "    expected_embedding = np.array(embeddings.embed_query(expected_answer))\n",
    "    predicted_embedding = np.array(embeddings.embed_query(predicted_answer))\n",
    "\n",
    "    sim = cosine_similarity(\n",
    "      expected_embedding.reshape(1, -1),\n",
    "      predicted_embedding.reshape(1, -1),\n",
    "    )[0][0]\n",
    "\n",
    "    results.append(sim)\n",
    "\n",
    "  return np.mean(results)"
   ]
  },
  {
   "cell_type": "markdown",
   "metadata": {},
   "source": [
    "## Experiment 4: LLM Mean Grade"
   ]
  },
  {
   "cell_type": "code",
   "execution_count": 66,
   "metadata": {},
   "outputs": [],
   "source": [
    "template = \"\"\"\n",
    "  Your job is to rate the quality of our generated answer {generated_answer}\n",
    "  given a query {query}.\n",
    "  Your score has to be a float between 0 and 10.\n",
    "  You must return your response in a line with only the score.\n",
    "  Do not return answers in any other format.\n",
    "\"\"\"\n",
    "prompt_template = ChatPromptTemplate.from_template(template)\n",
    "\n",
    "def llm_mean_grade(questions, predicted_answers):\n",
    "  results = []\n",
    "\n",
    "  for question, predicted_answer in zip(questions, predicted_answers):\n",
    "    messages = prompt_template.format_messages(\n",
    "      generated_answer=predicted_answer,\n",
    "      query=question,\n",
    "    )\n",
    "    response = openai_llm(messages)\n",
    "    grade = float(response.content) / 10\n",
    "\n",
    "    results.append(grade)\n",
    "\n",
    "  return np.mean(results)"
   ]
  },
  {
   "cell_type": "markdown",
   "metadata": {},
   "source": [
    "# Testing"
   ]
  },
  {
   "cell_type": "code",
   "execution_count": 67,
   "metadata": {},
   "outputs": [],
   "source": [
    "qa_llms = [\n",
    "  {'name': 'Open AI GPT 3.5 Turbo', 'qa_llm': openai_qa_llm},\n",
    "  {'name': 'LLAMA 2', 'qa_llm': llama_qa_llm},\n",
    "]\n",
    "metrics = [\n",
    "  {\n",
    "    'name': 'Unigrams Overlap Recall',\n",
    "    'f': lambda questions, expected_answers, predicted_answers: unigrams_overlap_recall_metric(expected_answers, predicted_answers),\n",
    "  },\n",
    "  {\n",
    "    'name': 'Unigrams Overlap Precision',\n",
    "    'f': lambda questions, expected_answers, predicted_answers: unigrams_overlap_precision_metric(expected_answers, predicted_answers),\n",
    "  },\n",
    "  {\n",
    "    'name': 'Unigrams Overlap F1-Score',\n",
    "    'f': lambda questions, expected_answers, predicted_answers: unigrams_overlap_f1_metric(expected_answers, predicted_answers),\n",
    "  },\n",
    "  {\n",
    "    'name': 'Embedding Euclidean Distance',\n",
    "    'f': lambda questions, expected_answers, predicted_answers: embeddings_euclidean_dist_metric(expected_answers, predicted_answers),\n",
    "  },\n",
    "  {\n",
    "    'name': 'Embeddings Cosine Similarity',\n",
    "    'f': lambda questions, expected_answers, predicted_answers: embeddings_cosine_sim_metric(expected_answers, predicted_answers),\n",
    "  },\n",
    "  {\n",
    "    'name': 'LLM mean grade',\n",
    "    'f': lambda questions, expected_answers, predicted_answers: llm_mean_grade(questions, predicted_answers),\n",
    "  },\n",
    "]"
   ]
  },
  {
   "cell_type": "code",
   "execution_count": 68,
   "metadata": {},
   "outputs": [
    {
     "data": {
      "text/html": [
       "<div>\n",
       "<style scoped>\n",
       "    .dataframe tbody tr th:only-of-type {\n",
       "        vertical-align: middle;\n",
       "    }\n",
       "\n",
       "    .dataframe tbody tr th {\n",
       "        vertical-align: top;\n",
       "    }\n",
       "\n",
       "    .dataframe thead th {\n",
       "        text-align: right;\n",
       "    }\n",
       "</style>\n",
       "<table border=\"1\" class=\"dataframe\">\n",
       "  <thead>\n",
       "    <tr style=\"text-align: right;\">\n",
       "      <th></th>\n",
       "      <th>Open AI GPT 3.5 Turbo</th>\n",
       "      <th>LLAMA 2</th>\n",
       "    </tr>\n",
       "  </thead>\n",
       "  <tbody>\n",
       "    <tr>\n",
       "      <th>Unigrams Overlap Recall</th>\n",
       "      <td>0.0</td>\n",
       "      <td>0.0</td>\n",
       "    </tr>\n",
       "    <tr>\n",
       "      <th>Unigrams Overlap Precision</th>\n",
       "      <td>0.0</td>\n",
       "      <td>0.0</td>\n",
       "    </tr>\n",
       "    <tr>\n",
       "      <th>Unigrams Overlap F1-Score</th>\n",
       "      <td>0.0</td>\n",
       "      <td>0.0</td>\n",
       "    </tr>\n",
       "    <tr>\n",
       "      <th>Embedding Euclidean Distance</th>\n",
       "      <td>0.0</td>\n",
       "      <td>0.0</td>\n",
       "    </tr>\n",
       "    <tr>\n",
       "      <th>Embeddings Cosine Similarity</th>\n",
       "      <td>0.0</td>\n",
       "      <td>0.0</td>\n",
       "    </tr>\n",
       "    <tr>\n",
       "      <th>LLM mean grade</th>\n",
       "      <td>0.0</td>\n",
       "      <td>0.0</td>\n",
       "    </tr>\n",
       "  </tbody>\n",
       "</table>\n",
       "</div>"
      ],
      "text/plain": [
       "                              Open AI GPT 3.5 Turbo  LLAMA 2\n",
       "Unigrams Overlap Recall                         0.0      0.0\n",
       "Unigrams Overlap Precision                      0.0      0.0\n",
       "Unigrams Overlap F1-Score                       0.0      0.0\n",
       "Embedding Euclidean Distance                    0.0      0.0\n",
       "Embeddings Cosine Similarity                    0.0      0.0\n",
       "LLM mean grade                                  0.0      0.0"
      ]
     },
     "execution_count": 68,
     "metadata": {},
     "output_type": "execute_result"
    }
   ],
   "source": [
    "results = pd.DataFrame(\n",
    "  {item['name']: np.zeros(len(metrics)) for item in qa_llms},\n",
    "  index=list(map(lambda e: e['name'], metrics)),\n",
    ")\n",
    "results"
   ]
  },
  {
   "cell_type": "code",
   "execution_count": 70,
   "metadata": {},
   "outputs": [
    {
     "name": "stdout",
     "output_type": "stream",
     "text": [
      "\n",
      "\n",
      "\u001b[1m> Entering new RetrievalQA chain...\u001b[0m\n",
      "\n",
      "\u001b[1m> Finished chain.\u001b[0m\n",
      "\n",
      "\n",
      "\u001b[1m> Entering new RetrievalQA chain...\u001b[0m\n",
      "\n",
      "\u001b[1m> Finished chain.\u001b[0m\n",
      "\n",
      "\n",
      "\u001b[1m> Entering new RetrievalQA chain...\u001b[0m\n",
      "\n",
      "\u001b[1m> Finished chain.\u001b[0m\n",
      "\n",
      "\n",
      "\u001b[1m> Entering new RetrievalQA chain...\u001b[0m\n",
      "\n",
      "\u001b[1m> Finished chain.\u001b[0m\n",
      "\n",
      "\n",
      "\u001b[1m> Entering new RetrievalQA chain...\u001b[0m\n",
      "\n",
      "\u001b[1m> Finished chain.\u001b[0m\n",
      "\n",
      "\n",
      "\u001b[1m> Entering new RetrievalQA chain...\u001b[0m\n",
      "\n",
      "\u001b[1m> Finished chain.\u001b[0m\n",
      "\n",
      "\n",
      "\u001b[1m> Entering new RetrievalQA chain...\u001b[0m\n",
      "\n",
      "\u001b[1m> Finished chain.\u001b[0m\n",
      "\n",
      "\n",
      "\u001b[1m> Entering new RetrievalQA chain...\u001b[0m\n",
      "\n",
      "\u001b[1m> Finished chain.\u001b[0m\n",
      "\n",
      "\n",
      "\u001b[1m> Entering new RetrievalQA chain...\u001b[0m\n",
      "\n",
      "\u001b[1m> Finished chain.\u001b[0m\n",
      "\n",
      "\n",
      "\u001b[1m> Entering new RetrievalQA chain...\u001b[0m\n",
      "\n",
      "\u001b[1m> Finished chain.\u001b[0m\n",
      "\n",
      "\n",
      "\u001b[1m> Entering new RetrievalQA chain...\u001b[0m\n",
      "\n",
      "\u001b[1m> Finished chain.\u001b[0m\n",
      "\n",
      "\n",
      "\u001b[1m> Entering new RetrievalQA chain...\u001b[0m\n",
      "\n",
      "\u001b[1m> Finished chain.\u001b[0m\n"
     ]
    },
    {
     "data": {
      "text/plain": [
       "{'Open AI GPT 3.5 Turbo': {'questions': ['Дисперсия случайной величины',\n",
       "   'Докажи неравенство Чебышёва',\n",
       "   'Дай определение формулы Байеса',\n",
       "   'Что такое ковариация?',\n",
       "   'Определение характеристической функции',\n",
       "   'Формулировка теоремы об однозначности задания совместного распределения функцией совместного распределения и о существовании распределения с заданой функцией совместного распределения'],\n",
       "  'expected_answers': ['Дисперсией случайной величины $X$ называется число $\\\\mathbb{D}X = \\\\mathbb{E}(X - \\\\mathbb{E}X) ^ 2$.',\n",
       "   'Пусть $A = {\\\\omega:X(\\\\omega) \\\\geqslant t}$. Тогда $X \\\\geqslant t \\\\cdot I_A$, и значит $\\\\mathbb{E}X \\\\geqslant tP(A)$.',\n",
       "   \"Пусть $P(B) > 0$. Условной вероятностью события $A$ при условии $B$ называется число $P(A|B) = \\\\dfrac{P(A \\\\cap B)}{P(B)}$. Если фиксировать событие $B$, то функция $P(\\\\cdot|B)$ является новой вероятностной мерой, т.е. удовлетворяет свойствам (i) и (ii) (или (ii)', если таковой была исходная вероятностная мера $P$). Равенство из определения часто переписывают в виде $P(A \\\\cap B) = P(A|B)P(B)$ и называют правилом произведения.\",\n",
       "   'Ковариацией пары случайных величин $X, Y$ называется число $\\\\mathrm{cov}(X, Y) = \\\\mathbb{E} \\\\left( (X - \\\\mathbb{E}X)(Y - \\\\mathbb{E}Y) \\\\right)$.',\n",
       "   'Пусть $X$ это случайная величина. Тогда характеристическая функция случайной величины $X$ это\\n\\\\begin{equation*}\\n\\\\phi_X(t) := \\\\E[e^{itX}] = \\\\E[\\\\cos (t \\\\cdot X)] + i \\\\cdot \\\\E[\\\\sin (t \\\\cdot X)].\\n\\\\end{equation*}',\n",
       "   'Совместное распределение пары случайных величин $\\\\mu_{X, Y}$ однозначно задается функцией совместного распределения $F_{X, Y}$.\\nКроме того, для всякой функции $F$, удовлетворяющей свойствам $(1), (2), (3), (4),$ существует вероятностное пространство $(\\\\Omega, \\\\mathcal{A}, P)$ и пара случайных величин $X, Y$ с функцией совместного распределения $F$.'],\n",
       "  'predicted_answers': ['Дисперсия случайной величины $X$ определяется как $\\\\mathbb{D}X = \\\\mathbb{E}(X - \\\\mathbb{E}X)^2$.',\n",
       "   'Для доказательства неравенства Чебышёва, мы можем воспользоваться неравенством Маркова. \\n\\nНеравенство Маркова утверждает, что для любой случайной величины $X$, неотрицательной почти наверное, и для любого $t > 0$ верно неравенство:\\n\\n\\\\[ P(X \\\\geq t) \\\\leq \\\\frac{\\\\mathbb{E}X}{t} \\\\]\\n\\nТеперь, если мы применим это неравенство к случайной величине $|X - \\\\mathbb{E}X|^2$, которая также неотрицательна, получим:\\n\\n\\\\[ P(|X - \\\\mathbb{E}X|^2 \\\\geq t) \\\\leq \\\\frac{\\\\mathbb{E}|X - \\\\mathbb{E}X|^2}{t} \\\\]\\n\\nТак как $\\\\mathbb{E}|X - \\\\mathbb{E}X|^2 = \\\\mathbb{D}X$, мы получаем неравенство Чебышёва:\\n\\n\\\\[ P(|X - \\\\mathbb{E}X| \\\\geq t) \\\\leq \\\\frac{\\\\mathbb{D}X}{t^2} \\\\]\\n\\nТаким образом, неравенство Чебышёва доказано.',\n",
       "   'Формула Байеса - это теорема о вероятности, которая позволяет пересчитывать вероятности событий с учётом новой информации. Формула Байеса позволяет нам пересчитать вероятность события A, зная вероятность события B при условии A и вероятность события A без учёта B. Формально формула Байеса выглядит так: \\n\\n\\\\[ P(A|B) = \\\\frac{P(B|A) \\\\cdot P(A)}{P(B)} \\\\]\\n\\nгде:\\n- P(A|B) - вероятность события A при условии B,\\n- P(B|A) - вероятность события B при условии A,\\n- P(A) и P(B) - вероятности событий A и B соответственно.',\n",
       "   'Ковариация пары случайных величин $X$ и $Y$ - это число, которое равно математическому ожиданию произведения отклонений случайных величин от их математических ожиданий. Формула для ковариации выглядит следующим образом: $\\\\mathrm{cov}(X, Y) = \\\\mathbb{E} \\\\left( (X - \\\\mathbb{E}X)(Y - \\\\mathbb{E}Y) \\\\right)$.',\n",
       "   'Характеристическая функция случайной величины $X$ определяется как математическое ожидание экспоненты комплексного числа, умноженного на случайную величину $X$. Формально, характеристическая функция определяется следующим образом: \\n\\n\\\\begin{equation*} \\\\phi_X(t) := \\\\E[e^{itX}] = \\\\E[\\\\cos (t \\\\cdot X)] + i \\\\cdot \\\\E[\\\\sin (t \\\\cdot X)], \\\\end{equation*}\\n\\nгде $t$ - это параметр, $i$ - мнимая единица, $\\\\E$ - математическое ожидание, $\\\\cos$ и $\\\\sin$ - тригонометрические функции.',\n",
       "   'Совместное распределение пары случайных величин $\\\\mu_{X, Y}$ однозначно задается функцией совместного распределения $F_{X, Y}$. Кроме того, для всякой функции $F$, удовлетворяющей свойствам $(1), (2), (3), (4),$ существует вероятностное пространство $(\\\\Omega, \\\\mathcal{A}, P)$ и пара случайных величин $X, Y$ с функцией совместного распределения $F$.']},\n",
       " 'LLAMA 2': {'questions': ['Дисперсия случайной величины',\n",
       "   'Докажи неравенство Чебышёва',\n",
       "   'Дай определение формулы Байеса',\n",
       "   'Что такое ковариация?',\n",
       "   'Определение характеристической функции',\n",
       "   'Формулировка теоремы об однозначности задания совместного распределения функцией совместного распределения и о существовании распределения с заданой функцией совместного распределения'],\n",
       "  'expected_answers': ['Дисперсией случайной величины $X$ называется число $\\\\mathbb{D}X = \\\\mathbb{E}(X - \\\\mathbb{E}X) ^ 2$.',\n",
       "   'Пусть $A = {\\\\omega:X(\\\\omega) \\\\geqslant t}$. Тогда $X \\\\geqslant t \\\\cdot I_A$, и значит $\\\\mathbb{E}X \\\\geqslant tP(A)$.',\n",
       "   \"Пусть $P(B) > 0$. Условной вероятностью события $A$ при условии $B$ называется число $P(A|B) = \\\\dfrac{P(A \\\\cap B)}{P(B)}$. Если фиксировать событие $B$, то функция $P(\\\\cdot|B)$ является новой вероятностной мерой, т.е. удовлетворяет свойствам (i) и (ii) (или (ii)', если таковой была исходная вероятностная мера $P$). Равенство из определения часто переписывают в виде $P(A \\\\cap B) = P(A|B)P(B)$ и называют правилом произведения.\",\n",
       "   'Ковариацией пары случайных величин $X, Y$ называется число $\\\\mathrm{cov}(X, Y) = \\\\mathbb{E} \\\\left( (X - \\\\mathbb{E}X)(Y - \\\\mathbb{E}Y) \\\\right)$.',\n",
       "   'Пусть $X$ это случайная величина. Тогда характеристическая функция случайной величины $X$ это\\n\\\\begin{equation*}\\n\\\\phi_X(t) := \\\\E[e^{itX}] = \\\\E[\\\\cos (t \\\\cdot X)] + i \\\\cdot \\\\E[\\\\sin (t \\\\cdot X)].\\n\\\\end{equation*}',\n",
       "   'Совместное распределение пары случайных величин $\\\\mu_{X, Y}$ однозначно задается функцией совместного распределения $F_{X, Y}$.\\nКроме того, для всякой функции $F$, удовлетворяющей свойствам $(1), (2), (3), (4),$ существует вероятностное пространство $(\\\\Omega, \\\\mathcal{A}, P)$ и пара случайных величин $X, Y$ с функцией совместного распределения $F$.'],\n",
       "  'predicted_answers': ['The question is asking about the disperison of a random variable, and you have provided information on the definition of dispersion, covariance, and correlation, as well as some properties of these quantities. You have also mentioned the Chebyshev inequality and the law of large numbers.\\n\\nTo answer the question, you could provide a definition of the dispersion of a random variable, and explain how it is related to the variance and the covariance of the random variable. You could also discuss some of the important properties of dispersion, such as the fact that it is a measure of how spread out the random variable is, and how it can be used to infer information about the distribution of the random variable.\\n\\nHere is a possible answer:\\n\\nThe dispersion of a random variable $X$ is a measure of how spread out the distribution of $X$ is. More specifically, it is defined as the square root of the variance of $X$, which is denoted by $\\\\mathbb{D}X$. The variance of $X$ is defined as the average of the squared differences between the mean of $X$ and the individual observations of $X$, and is denoted by $\\\\mathbb{V}X$.\\n\\nThe dispersion of a random variable is related to the covariance of the random variable, which is defined as the average of the product of the differences between the mean of $X$ and the individual observations of $X$ and the differences between the observations of $Y$ and the mean of $Y$. The covariance of $X$ and $Y$ is denoted by $\\\\operatorname{cov}(X, Y)$.\\n\\nThe dispersion of a random variable can be used to infer information about the distribution of the random variable. For example, if the dispersion of $X$ is small, then the distribution of $X$ is likely to be concentrated around the mean of $X$. On the other hand, if the dispersion of $X$ is large, then the distribution of $X$ is likely to be more spread out.\\n\\nThe Chebyshev inequality is a useful tool for bounding the probability of events in terms of the dispersion of the random variable. In particular, the Chebyshev inequality states that for any event $A$ and any real number $t$, the following bound holds:\\n\\n$$P(A) \\\\leq \\\\frac{1}{t} \\\\mathbb{D}(A)$$\\n\\nThis inequality can be used to bound the probability of events in terms of the dispersion of the random variable. For example, if the dispersion of a random variable $X$ is small, then the probability of any event $A$ is likely to be small as well.\\n\\nThe law of large numbers is another important tool for understanding the behavior of random variables. In particular, the law of large numbers states that the average of a large number of independent and identically distributed random variables will converge to the mean of the distribution of those random variables. This can be used to infer information about the distribution of a random variable based on its behavior over a large number of observations.\\n\\nIn summary, the dispersion of a random variable is a measure of how spread out the distribution of the random variable is, and it can be used to infer information about the distribution of the random variable. The Chebyshev inequality and the law of large numbers are two important tools for bounding the probability of events in terms of the dispersion of the random variable.',\n",
       "   \"I can help you prove the Chebyshev inequality. Here's the proof:\\n\\nLet $X_1, X_2, \\\\ldots, X_n$ be independent random variables with finite second moments. We want to show that for any $\\\\epsilon > 0$,\\n\\n$$P\\\\left(\\\\left| \\\\frac{X_1 + X_2 + \\\\cdots + X_n}{n} - \\\\mathbb{E}X\\\\right| \\\\geq \\\\epsilon\\\\right) \\\\leq \\\\frac{\\\\mathbb{D}X}{\\\\epsilon^2}.$$\\n\\nFirst, we can write the probability of interest as:\\n\\n$$P\\\\left(\\\\left| \\\\frac{X_1 + X_2 + \\\\cdots + X_n}{n} - \\\\mathbb{E}X\\\\right| \\\\geq \\\\epsilon\\\\right) = P\\\\left(\\\\left| \\\\frac{X_1 + X_2 + \\\\cdots + X_n}{n} - \\\\mathbb{E}X\\\\right| > \\\\epsilon\\\\right).$$\\n\\nNow, let's use the definition of the variance:\\n\\n$$\\\\mathbb{D}X = \\\\sigma^2,$$\\n\\nwhere $\\\\sigma$ is the standard deviation of $X$. Therefore, we can rewrite the probability as:\\n\\n$$P\\\\left(\\\\left| \\\\frac{X_1 + X_2 + \\\\cdots + X_n}{n} - \\\\mathbb{E}X\\\\right| > \\\\epsilon\\\\right) = P\\\\left(\\\\left| \\\\frac{X_1 + X_2 + \\\\cdots + X_n}{n} - \\\\mathbb{E}X\\\\right| > \\\\epsilon\\\\right) \\\\leq \\\\frac{P\\\\left(X_1 + X_2 + \\\\cdots + X_n > \\\\epsilon n\\\\right)}{n}.$$\\n\\nSince the random variables $X_1, X_2, \\\\ldots, X_n$ are independent, we have:\\n\\n$$P\\\\left(X_1 + X_2 + \\\\cdots + X_n > \\\\epsilon n\\\\right) = \\\\prod_{j=1}^n P(X_j > \\\\epsilon).$$\\n\\nNow, let's use the assumption that $\\\\mathbb{E}X < \\\\infty$. Then, we have:\\n\\n$$P(X_j > \\\\epsilon) = \\\\frac{1}{\\\\sqrt{2\\\\pi}} \\\\int_{-\\\\infty}^{\\\\epsilon} e^{-x^2/2} dx = \\\\frac{1}{\\\\sqrt{2\\\\pi}} \\\\left(\\\\frac{1}{\\\\epsilon}\\\\right)^{1/2}.$$\\n\\nTherefore, we can write:\\n\\n$$P\\\\left(\\\\left| \\\\frac{X_1 + X_2 + \\\\cdots + X_n}{n} - \\\\mathbb{E}X\\\\right| > \\\\epsilon\\\\right) \\\\leq \\\\frac{1}{\\\\sqrt{2\\\\pi}} \\\\left(\\\\frac{1}{\\\\epsilon}\\\\right)^{1/2}.$$\\n\\nFinally, we can take the square root of both sides to get:\\n\\n$$P\\\\left(\\\\left| \\\\frac{X_1 + X_2 + \\\\cdots + X_n}{n} - \\\\mathbb{E}X\\\\right| > \\\\epsilon\\\\right) \\\\leq \\\\sqrt{\\\\frac{1}{\\\\sqrt{2\\\\pi}} \\\\left(\\\\frac{1}{\\\\epsilon}\\\\right)^{1/2}} = \\\\frac{1}{\\\\sqrt{2\\\\pi}} \\\\left(\\\\frac{1}{\\\\epsilon}\\\\right)^{1/4}.$$\\n\\nThis shows that for any $\\\\epsilon > 0$, we have:\\n\\n$$P\\\\left(\\\\left| \\\\frac{X_1 + X_2 + \\\\cdots + X_n}{n} - \\\\mathbb{E}X\\\\right| > \\\\epsilon\\\\right) \\\\leq \\\\frac{1}{\\\\sqrt{2\\\\pi}} \\\\left(\\\\frac{1}{\\\\epsilon}\\\\right)^{1/4}.$$\\n\\nTherefore, we have proven the Chebyshev inequality.\",\n",
       "   \"The Bayes' formula is a mathematical tool used in probability theory to update the probability of an event after observing new data. It allows us to compute the conditional probability of an event given the observed data, which is often useful in decision-making and prediction tasks.\\n\\nIn simple terms, the Bayes' formula states that the probability of an event occurring given some observed data is equal to the probability of the observed data given the event, multiplied by the prior probability of the event, divided by the probability of the observed data. Mathematically, it can be written as:\\n\\nP(A|B) = P(B|A) \\\\* P(A) / P(B)\\n\\nWhere:\\n\\n* P(A|B) is the conditional probability of event A given observed data B\\n* P(B|A) is the conditional probability of observed data B given event A\\n* P(A) is the prior probability of event A\\n* P(B) is the probability of observed data B\\n\\nThe Bayes' formula is a powerful tool for making predictions and decisions based on uncertain data. It allows us to update our beliefs about the probability of an event occurring after observing new data, which can be useful in a wide range of applications, such as medical diagnosis, financial forecasting, and machine learning.\",\n",
       "   'Ковариация (covariance) is a measure of the linear relationship between two random variables. It is defined as the expected value of the product of the deviations of the two variables from their means. In other words, it measures how much the values of two random variables tend to move together in the same direction.\\n\\nMore formally, let $X$ and $Y$ be two random variables, and let $\\\\mathbb{E}$ denote the expected value operator. Then, the covariance between $X$ and $Y$ is defined as:\\n\\n$$\\\\cov(X, Y) = \\\\mathbb{E}(X - \\\\mathbb{E}X)(Y - \\\\mathbb{E}Y)$$\\n\\nThe covariance is a symmetric matrix, meaning that $\\\\cov(X, Y) = \\\\cov(Y, X)$. It can be used to measure the degree of linear relationship between two random variables. A high covariance indicates that the values of the two variables tend to move together in the same direction, while a low covariance suggests that they do not have a strong linear relationship.\\n\\nIn addition to measuring the linear relationship between two random variables, the covariance can also be used to define other important concepts in probability theory, such as the variance and the standard deviation.',\n",
       "   '\\nThe question is asking about the relationship between the characteristic function of a random variable and its probability distribution. Specifically, it asks whether the characteristic function can be used to determine the probability distribution of a random variable, and if so, under what conditions.\\n\\nThe answer to this question is yes, the characteristic function can be used to determine the probability distribution of a random variable. In fact, the characteristic function is a powerful tool for analyzing the properties of random variables, and it is often used to derive results about their probability distributions.\\n\\nTo see why this is the case, consider a random variable $X$ with a probability density function (pdf) $f_X(x)$. The characteristic function of $X$, denoted by $\\\\phi_X(t)$, is defined as:\\n\\n$$\\\\phi_X(t) = \\\\E[e^{itX}]$$\\n\\nThe pdf $f_X(x)$ satisfies the following relation:\\n\\n$$f_X(x) = \\\\frac{1}{\\\\pi} \\\\int_{-\\\\infty}^x \\\\frac{\\\\phi_X(t)}{t} dt$$\\n\\nUsing this relation, we can express the pdf $f_X(x)$ in terms of the characteristic function $\\\\phi_X(t)$. Specifically, we have:\\n\\n$$f_X(x) = \\\\frac{1}{\\\\pi} \\\\int_{-\\\\infty}^x \\\\frac{\\\\phi_X(t)}{t} dt = \\\\frac{1}{\\\\pi} \\\\int_{-\\\\infty}^x \\\\frac{e^{itX}}{t} dt = \\\\frac{1}{\\\\pi} \\\\int_{-\\\\infty}^x e^{itX} dt$$\\n\\nSince the characteristic function is a continuous function of $t$, we can integrate it over any interval to obtain the pdf of the random variable. In particular, if we integrate the characteristic function over the entire real line, we obtain the pdf of the random variable:\\n\\n$$f_X(x) = \\\\frac{1}{\\\\pi} \\\\int_{-\\\\infty}^{\\\\infty} e^{itX} dt = \\\\frac{1}{\\\\pi} \\\\int_{-\\\\infty}^{\\\\infty} e^{it\\\\cdot X} dt = 1$$\\n\\nTherefore, the characteristic function can be used to determine the probability distribution of a random variable. In fact, it is often easier to work with the characteristic function than with the pdf directly, since it has nicer properties and can be used to derive results about the random variable more easily.',\n",
       "   'The theorem you are referring to is likely the following:\\n\\nLet $X$ and $Y$ be two random variables. Then, the joint probability distribution of $X$ and $Y$, denoted by $\\\\mu_{X, Y}$, is uniquely determined by the function $F_X$. Moreover, if a function $F$ satisfies properties (1), (2), (3), and (4), then there exists a probability space $({\\\\Omega}, {A}, {P})$ and random variables $X$ and $Y$ with joint distribution $\\\\mu_{X, Y}$ such that $F(X, Y) = F_X(X)F_Y(Y)$.\\n\\nTo be more specific, the theorem states that the joint probability distribution of two random variables $X$ and $Y$ is determined by the function $F_X$, which is a non-negative function on the real numbers. The theorem also guarantees that if a function $F$ satisfies certain properties, then there exists a probability space $({\\\\Omega}, {A}, {P})$ and random variables $X$ and $Y$ with joint distribution $\\\\mu_{X, Y}$ such that $F(X, Y) = F_X(X)F_Y(Y)$.\\n\\nThe proof of this theorem involves showing that the joint probability distribution of $X$ and $Y$ is uniquely determined by the function $F_X$, and then using the properties of $F$ to construct a probability space $({\\\\Omega}, {A}, {P})$ and random variables $X$ and $Y$ with the desired joint distribution.\\n\\nThe theorem has important implications for probability theory and its applications. For example, it allows us to define and study the properties of random variables in a more general setting than just the real numbers, which is not possible without this theorem. Additionally, the theorem provides a way to construct probability spaces and random variables with specific joint distributions, which is useful in many areas of mathematics and statistics.']}}"
      ]
     },
     "execution_count": 70,
     "metadata": {},
     "output_type": "execute_result"
    }
   ],
   "source": [
    "data = {}\n",
    "\n",
    "for qa_llm in qa_llms:\n",
    "  raw_questions = []\n",
    "  expected_answers = []\n",
    "  predicted_answers = []\n",
    "\n",
    "  for question in questions:\n",
    "    raw_questions.append(question['question'])\n",
    "    expected_answers.append(question['answer'])\n",
    "    predicted_answers.append(qa_llm['qa_llm'].run(question['question']))\n",
    "\n",
    "  data[qa_llm['name']] = {\n",
    "    'questions': raw_questions,\n",
    "    'expected_answers': expected_answers,\n",
    "    'predicted_answers': predicted_answers,\n",
    "  }\n",
    "\n",
    "data"
   ]
  },
  {
   "cell_type": "code",
   "execution_count": 72,
   "metadata": {},
   "outputs": [],
   "source": [
    "for qa_name in data:\n",
    "  raw_questions = data[qa_name]['questions']\n",
    "  expected_answers = data[qa_name]['expected_answers']\n",
    "  predicted_answers = data[qa_name]['predicted_answers']\n",
    "\n",
    "  for metric in metrics:\n",
    "    print(qa_name, metric['name'])\n",
    "    result = metric['f'](raw_questions, expected_answers, predicted_answers)\n",
    "    results.loc[metric['name'], qa_llm['name']] = result\n",
    "\n",
    "results"
   ]
  },
  {
   "cell_type": "code",
   "execution_count": null,
   "metadata": {},
   "outputs": [
    {
     "data": {
      "image/png": "[encoded data removed]",
      "text/plain": [
       "<Figure size 1000x800 with 2 Axes>"
      ]
     },
     "metadata": {},
     "output_type": "display_data"
    }
   ],
   "source": [
    "plt.figure(figsize=(10,8))\n",
    "sns.heatmap(results, annot=True, cmap='RdYlGn', center=0)\n",
    "plt.show()"
   ]
  },
  {
   "cell_type": "code",
   "execution_count": null,
   "metadata": {},
   "outputs": [],
   "source": []
  }
 ],
 "metadata": {
  "kernelspec": {
   "display_name": "base",
   "language": "python",
   "name": "python3"
  },
  "language_info": {
   "codemirror_mode": {
    "name": "ipython",
    "version": 3
   },
   "file_extension": ".py",
   "mimetype": "text/x-python",
   "name": "python",
   "nbconvert_exporter": "python",
   "pygments_lexer": "ipython3",
   "version": "3.10.13"
  }
 },
 "nbformat": 4,
 "nbformat_minor": 2
}
